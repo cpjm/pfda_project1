{
 "cells": [
  {
   "cell_type": "markdown",
   "metadata": {},
   "source": [
    "# Programming for Data Analysis - Project 1\n",
    "\n",
    "**Ciaran Moran**\n",
    "\n",
    "***"
   ]
  },
  {
   "cell_type": "markdown",
   "metadata": {},
   "source": [
    "**Standard imports**"
   ]
  },
  {
   "cell_type": "code",
   "execution_count": 1,
   "metadata": {},
   "outputs": [],
   "source": [
    "import matplotlib.pyplot as plt \n",
    "import csv\n",
    "import pandas as pd "
   ]
  },
  {
   "cell_type": "code",
   "execution_count": null,
   "metadata": {},
   "outputs": [],
   "source": []
  },
  {
   "cell_type": "markdown",
   "metadata": {},
   "source": [
    "***Define some global variables***"
   ]
  },
  {
   "cell_type": "code",
   "execution_count": 2,
   "metadata": {},
   "outputs": [],
   "source": [
    "#mthMin=[]\n",
    "#mthMax=[]\n",
    "#mth=\"\""
   ]
  },
  {
   "cell_type": "code",
   "execution_count": null,
   "metadata": {},
   "outputs": [],
   "source": []
  },
  {
   "cell_type": "code",
   "execution_count": null,
   "metadata": {},
   "outputs": [],
   "source": [
    "\n"
   ]
  },
  {
   "cell_type": "markdown",
   "metadata": {},
   "source": []
  },
  {
   "cell_type": "markdown",
   "metadata": {},
   "source": [
    "**Data File dly532.csv**\n",
    "\n",
    "This is a real world time series data csv file available for download from met.ie.\n",
    "\n",
    "It represents the historical weather in Ireland from 1942 through to Sep 2023.\n",
    "\n",
    "The various data fields are explained in the first 25 lines of the dly532.csv file.\n",
    "\n",
    "I have manually removed the the first 25 non data lines from the start of the file dly532.csv \n",
    "and copied the data to file ***dly532-non-data-removed.csv***.\n",
    "\n",
    "The removed lines can be seen in the original file dly532.csv.\n",
    "\n",
    "\n",
    "The main columns of data I will be looking at are:-\n",
    "- date:   -  00 to 00 utc\n",
    "- rain:   -  Precipitation Amount (mm)\n",
    "- maxtp:  -  Maximum Air Temperature (C)\t  \n",
    "- mintp:  -  Minimum  Air Temperature (C)\n",
    "- hg:     -  Highest Gust (knot)\n",
    "- sun:    -  Sunshine duration (hours)\n",
    "\n",
    "From this real world data the min and max values can be extrapolated.\n",
    "Random data can then be synthesised based these real world min/max values."
   ]
  },
  {
   "cell_type": "markdown",
   "metadata": {},
   "source": [
    "***Initial csv data load***\n",
    "\n",
    "A sample of the data will be displayed.\n",
    "\n",
    "This will be the header, first 5 rows of data and also the last 5 rows of data. \n",
    "\n",
    "Finally a count of rows and columns will be diplayed.\n",
    "\n",
    "For this dataset there are 29858 rows × 26 columns.\n"
   ]
  },
  {
   "cell_type": "code",
   "execution_count": 3,
   "metadata": {},
   "outputs": [
    {
     "name": "stdout",
     "output_type": "stream",
     "text": [
      "df >>>>>>>>>>\n"
     ]
    },
    {
     "data": {
      "text/html": [
       "<div>\n",
       "<style scoped>\n",
       "    .dataframe tbody tr th:only-of-type {\n",
       "        vertical-align: middle;\n",
       "    }\n",
       "\n",
       "    .dataframe tbody tr th {\n",
       "        vertical-align: top;\n",
       "    }\n",
       "\n",
       "    .dataframe thead th {\n",
       "        text-align: right;\n",
       "    }\n",
       "</style>\n",
       "<table border=\"1\" class=\"dataframe\">\n",
       "  <thead>\n",
       "    <tr style=\"text-align: right;\">\n",
       "      <th></th>\n",
       "      <th>date</th>\n",
       "      <th>maxtp</th>\n",
       "      <th>mintp</th>\n",
       "      <th>rain</th>\n",
       "      <th>sun</th>\n",
       "    </tr>\n",
       "  </thead>\n",
       "  <tbody>\n",
       "    <tr>\n",
       "      <th>0</th>\n",
       "      <td>01-jan-1942</td>\n",
       "      <td>9.7</td>\n",
       "      <td>6.8</td>\n",
       "      <td>0.0</td>\n",
       "      <td>0.0</td>\n",
       "    </tr>\n",
       "    <tr>\n",
       "      <th>1</th>\n",
       "      <td>02-jan-1942</td>\n",
       "      <td>9.9</td>\n",
       "      <td>7.9</td>\n",
       "      <td>0.1</td>\n",
       "      <td>0.0</td>\n",
       "    </tr>\n",
       "    <tr>\n",
       "      <th>2</th>\n",
       "      <td>03-jan-1942</td>\n",
       "      <td>11.2</td>\n",
       "      <td>8.9</td>\n",
       "      <td>1.5</td>\n",
       "      <td>0.1</td>\n",
       "    </tr>\n",
       "    <tr>\n",
       "      <th>3</th>\n",
       "      <td>04-jan-1942</td>\n",
       "      <td>9.2</td>\n",
       "      <td>2.7</td>\n",
       "      <td>3.5</td>\n",
       "      <td>0.6</td>\n",
       "    </tr>\n",
       "    <tr>\n",
       "      <th>4</th>\n",
       "      <td>05-jan-1942</td>\n",
       "      <td>3.5</td>\n",
       "      <td>-0.8</td>\n",
       "      <td>0.6</td>\n",
       "      <td>3.4</td>\n",
       "    </tr>\n",
       "    <tr>\n",
       "      <th>...</th>\n",
       "      <td>...</td>\n",
       "      <td>...</td>\n",
       "      <td>...</td>\n",
       "      <td>...</td>\n",
       "      <td>...</td>\n",
       "    </tr>\n",
       "    <tr>\n",
       "      <th>29853</th>\n",
       "      <td>26-sep-2023</td>\n",
       "      <td>17.5</td>\n",
       "      <td>10.0</td>\n",
       "      <td>3.2</td>\n",
       "      <td>4.1</td>\n",
       "    </tr>\n",
       "    <tr>\n",
       "      <th>29854</th>\n",
       "      <td>27-sep-2023</td>\n",
       "      <td>16.5</td>\n",
       "      <td>10.0</td>\n",
       "      <td>15.0</td>\n",
       "      <td>0.4</td>\n",
       "    </tr>\n",
       "    <tr>\n",
       "      <th>29855</th>\n",
       "      <td>28-sep-2023</td>\n",
       "      <td>15.5</td>\n",
       "      <td>10.5</td>\n",
       "      <td>1.4</td>\n",
       "      <td>0.0</td>\n",
       "    </tr>\n",
       "    <tr>\n",
       "      <th>29856</th>\n",
       "      <td>29-sep-2023</td>\n",
       "      <td>16.4</td>\n",
       "      <td>10.1</td>\n",
       "      <td>0.3</td>\n",
       "      <td>8.9</td>\n",
       "    </tr>\n",
       "    <tr>\n",
       "      <th>29857</th>\n",
       "      <td>30-sep-2023</td>\n",
       "      <td>17.5</td>\n",
       "      <td>7.8</td>\n",
       "      <td>11.1</td>\n",
       "      <td>0.0</td>\n",
       "    </tr>\n",
       "  </tbody>\n",
       "</table>\n",
       "<p>29858 rows × 5 columns</p>\n",
       "</div>"
      ],
      "text/plain": [
       "              date  maxtp  mintp  rain  sun\n",
       "0      01-jan-1942    9.7    6.8   0.0  0.0\n",
       "1      02-jan-1942    9.9    7.9   0.1  0.0\n",
       "2      03-jan-1942   11.2    8.9   1.5  0.1\n",
       "3      04-jan-1942    9.2    2.7   3.5  0.6\n",
       "4      05-jan-1942    3.5   -0.8   0.6  3.4\n",
       "...            ...    ...    ...   ...  ...\n",
       "29853  26-sep-2023   17.5   10.0   3.2  4.1\n",
       "29854  27-sep-2023   16.5   10.0  15.0  0.4\n",
       "29855  28-sep-2023   15.5   10.5   1.4  0.0\n",
       "29856  29-sep-2023   16.4   10.1   0.3  8.9\n",
       "29857  30-sep-2023   17.5    7.8  11.1  0.0\n",
       "\n",
       "[29858 rows x 5 columns]"
      ]
     },
     "metadata": {},
     "output_type": "display_data"
    }
   ],
   "source": [
    "# Read in csv file and select columns for obtaining max/min data \n",
    "# full data set\n",
    "df = pd.read_csv('Research_Data/dly532/dly532-non-data-removed.csv', usecols = ['date','maxtp','mintp','rain','sun'])\n",
    "#rain data set\n",
    "df_rain = pd.read_csv('Research_Data/dly532/dly532-non-data-removed.csv', usecols = ['date','rain'])\n",
    "#max temp data set\n",
    "df_maxtp = pd.read_csv('Research_Data/dly532/dly532-non-data-removed.csv', usecols = ['date','maxtp']) \n",
    "#min temp data set\n",
    "df_mintp = pd.read_csv('Research_Data/dly532/dly532-non-data-removed.csv', usecols = ['date','mintp']) \n",
    "#daily hours of sun dataset\n",
    "df_sun = pd.read_csv('Research_Data/dly532/dly532-non-data-removed.csv', usecols = ['date','sun']) \n",
    "#new data table with months, variable, and min and max values\n",
    "df_new=pd.DataFrame({\"month\",\"tempmax\",\"tempmin\",\"rainmax\",\"rainmin\",\"sunmax\",\"sunmin\"})\n",
    "\n",
    "print(\"df >>>>>>>>>>\")\n",
    "display(df) \n",
    " "
   ]
  },
  {
   "cell_type": "markdown",
   "metadata": {},
   "source": [
    "***Get the Max and Min values of the temp per month***\n",
    "\n",
    "Re-using modified code based on the following websites \n",
    "\n",
    "https://stackoverflow.com/questions/31391275/using-like-inside-pandas-query\n",
    "\n",
    "https://www.w3schools.com/python/python_functions.asp\n"
   ]
  },
  {
   "cell_type": "markdown",
   "metadata": {},
   "source": [
    "***Functions***\n",
    "\n",
    "Using modified code from websites\n",
    "\n",
    "https://www.w3schools.com/python/python_functions.asp\n",
    "\n",
    "https://docs.python.org/3/tutorial/controlflow.html\n",
    "\n",
    "https://stackoverflow.com/questions/27975069/how-to-filter-rows-containing-a-string-pattern-from-a-pandas-dataframe\n",
    "\n",
    "https://vitalflux.com/pandas-dataframe-how-to-add-rows-columns/\n"
   ]
  },
  {
   "cell_type": "code",
   "execution_count": 4,
   "metadata": {},
   "outputs": [],
   "source": [
    "def funGetMonthMinMax(x):\n",
    "  #global mth\n",
    "  \n",
    " # print(\"********************MATCHING ON X>\",x)\n",
    "  match x:\n",
    "    case 1:\n",
    "      mth=\"jan\"\n",
    "    case 2:\n",
    "      mth=\"feb\"\n",
    "    case 3:\n",
    "      mth=\"mar\"\n",
    "    case 4:\n",
    "      mth=\"apr\"\n",
    "    case 5:\n",
    "      mth=\"may\"\n",
    "    case 6:\n",
    "      mth=\"jun\"\n",
    "    case 7:\n",
    "      mth=\"jul\"\n",
    "    case 8:\n",
    "      mth=\"aug\"\n",
    "    case 9:\n",
    "      mth=\"sep\"\n",
    "    case 10:\n",
    "      mth=\"oct\"\n",
    "    case 11:\n",
    "      mth=\"nov\"\n",
    "    case 12:\n",
    "      mth=\"jan\"\n",
    "  \n",
    "  # Create new dataset for just the month\n",
    "  dftemp=df[df[\"date\"].str.contains(mth)]\n",
    "  \n",
    "  # now set the min and max variables\n",
    "  tempmax=dftemp[1].max()\n",
    "  tempmin=dftemp[2].min()\n",
    "  rainmax=dftemp[3].max()\n",
    "  rainmin=dftemp[3].min()\n",
    "  sunmax=dftemp[4].max()\n",
    "  sunmin=dftemp[4].min()\n",
    "  \n",
    "  print(\"tempmax:\", tempmax)\n",
    "  print(\"tempmin:\",tempmin)\n",
    "  print(\"rainmax:\",rainmax)\n",
    "  print(\"rainmin:\",rainmin)\n",
    "  print(\"sunmax:\",sunmax)\n",
    "  print(\"sunmin:\",sunmin)\n",
    "  \n",
    "\n",
    "  #df_new=pd.DataFrame({\"month\"},{\"tempmax\"},{\"tempmin\"},{\"rainmax\"},{\"rainmin\"},{\"sunmax\"},{\"sunmin\"})\n",
    "  new_row = {'month': mth, 'tempmax': tempmax, 'tempmin': tempmin, 'rainmax': rainmax, \\\n",
    "             'rainmin': rainmin,'sunmax': sunmax, 'summin': sunmin,}\n",
    "  # Use the loc method to add the new row to the DataFrame\n",
    "  print(\"new_row: \", new_row)\n",
    "  df_new.append(new_row,  ignore_index = True)\n"
   ]
  },
  {
   "cell_type": "markdown",
   "metadata": {},
   "source": [
    "Using code referenced from these websites\n",
    "\n",
    "https://www.w3schools.com/python/python_for_loops.asp"
   ]
  },
  {
   "cell_type": "code",
   "execution_count": 5,
   "metadata": {},
   "outputs": [
    {
     "ename": "KeyError",
     "evalue": "1",
     "output_type": "error",
     "traceback": [
      "\u001b[1;31m---------------------------------------------------------------------------\u001b[0m",
      "\u001b[1;31mKeyError\u001b[0m                                  Traceback (most recent call last)",
      "File \u001b[1;32mc:\\Users\\Administrator\\anaconda3\\Lib\\site-packages\\pandas\\core\\indexes\\base.py:3653\u001b[0m, in \u001b[0;36mIndex.get_loc\u001b[1;34m(self, key)\u001b[0m\n\u001b[0;32m   3652\u001b[0m \u001b[39mtry\u001b[39;00m:\n\u001b[1;32m-> 3653\u001b[0m     \u001b[39mreturn\u001b[39;00m \u001b[39mself\u001b[39m\u001b[39m.\u001b[39m_engine\u001b[39m.\u001b[39mget_loc(casted_key)\n\u001b[0;32m   3654\u001b[0m \u001b[39mexcept\u001b[39;00m \u001b[39mKeyError\u001b[39;00m \u001b[39mas\u001b[39;00m err:\n",
      "File \u001b[1;32mc:\\Users\\Administrator\\anaconda3\\Lib\\site-packages\\pandas\\_libs\\index.pyx:147\u001b[0m, in \u001b[0;36mpandas._libs.index.IndexEngine.get_loc\u001b[1;34m()\u001b[0m\n",
      "File \u001b[1;32mc:\\Users\\Administrator\\anaconda3\\Lib\\site-packages\\pandas\\_libs\\index.pyx:176\u001b[0m, in \u001b[0;36mpandas._libs.index.IndexEngine.get_loc\u001b[1;34m()\u001b[0m\n",
      "File \u001b[1;32mpandas\\_libs\\hashtable_class_helper.pxi:7080\u001b[0m, in \u001b[0;36mpandas._libs.hashtable.PyObjectHashTable.get_item\u001b[1;34m()\u001b[0m\n",
      "File \u001b[1;32mpandas\\_libs\\hashtable_class_helper.pxi:7088\u001b[0m, in \u001b[0;36mpandas._libs.hashtable.PyObjectHashTable.get_item\u001b[1;34m()\u001b[0m\n",
      "\u001b[1;31mKeyError\u001b[0m: 1",
      "\nThe above exception was the direct cause of the following exception:\n",
      "\u001b[1;31mKeyError\u001b[0m                                  Traceback (most recent call last)",
      "\u001b[1;32mc:\\ATU\\Pfda_Project_1\\pfda_project1\\project1.ipynb Cell 17\u001b[0m line \u001b[0;36m8\n\u001b[0;32m      <a href='vscode-notebook-cell:/c%3A/ATU/Pfda_Project_1/pfda_project1/project1.ipynb#X22sZmlsZQ%3D%3D?line=0'>1</a>\u001b[0m \u001b[39m#FINDING MAX AND MIN\u001b[39;00m\n\u001b[0;32m      <a href='vscode-notebook-cell:/c%3A/ATU/Pfda_Project_1/pfda_project1/project1.ipynb#X22sZmlsZQ%3D%3D?line=1'>2</a>\u001b[0m \u001b[39m#df2=df.query('date.str.contains(\"jan\")')\u001b[39;00m\n\u001b[0;32m      <a href='vscode-notebook-cell:/c%3A/ATU/Pfda_Project_1/pfda_project1/project1.ipynb#X22sZmlsZQ%3D%3D?line=2'>3</a>\u001b[0m \u001b[39m#print(df2)\u001b[39;00m\n\u001b[0;32m      <a href='vscode-notebook-cell:/c%3A/ATU/Pfda_Project_1/pfda_project1/project1.ipynb#X22sZmlsZQ%3D%3D?line=3'>4</a>\u001b[0m \n\u001b[0;32m      <a href='vscode-notebook-cell:/c%3A/ATU/Pfda_Project_1/pfda_project1/project1.ipynb#X22sZmlsZQ%3D%3D?line=4'>5</a>\u001b[0m \u001b[39m#Loop for each month of the year, and find/set the min and max temp\u001b[39;00m\n\u001b[0;32m      <a href='vscode-notebook-cell:/c%3A/ATU/Pfda_Project_1/pfda_project1/project1.ipynb#X22sZmlsZQ%3D%3D?line=5'>6</a>\u001b[0m \u001b[39m# here range (1,13)actually means 1-12 i.e. the count stops at 13 and 13 isn't included\u001b[39;00m\n\u001b[0;32m      <a href='vscode-notebook-cell:/c%3A/ATU/Pfda_Project_1/pfda_project1/project1.ipynb#X22sZmlsZQ%3D%3D?line=6'>7</a>\u001b[0m \u001b[39mfor\u001b[39;00m x \u001b[39min\u001b[39;00m \u001b[39mrange\u001b[39m(\u001b[39m1\u001b[39m,\u001b[39m13\u001b[39m):\n\u001b[1;32m----> <a href='vscode-notebook-cell:/c%3A/ATU/Pfda_Project_1/pfda_project1/project1.ipynb#X22sZmlsZQ%3D%3D?line=7'>8</a>\u001b[0m     funGetMonthMinMax(x)\n",
      "\u001b[1;32mc:\\ATU\\Pfda_Project_1\\pfda_project1\\project1.ipynb Cell 17\u001b[0m line \u001b[0;36m3\n\u001b[0;32m     <a href='vscode-notebook-cell:/c%3A/ATU/Pfda_Project_1/pfda_project1/project1.ipynb#X22sZmlsZQ%3D%3D?line=31'>32</a>\u001b[0m dftemp\u001b[39m=\u001b[39mdf[df[\u001b[39m\"\u001b[39m\u001b[39mdate\u001b[39m\u001b[39m\"\u001b[39m]\u001b[39m.\u001b[39mstr\u001b[39m.\u001b[39mcontains(mth)]\n\u001b[0;32m     <a href='vscode-notebook-cell:/c%3A/ATU/Pfda_Project_1/pfda_project1/project1.ipynb#X22sZmlsZQ%3D%3D?line=33'>34</a>\u001b[0m \u001b[39m# now set the min and max variables\u001b[39;00m\n\u001b[1;32m---> <a href='vscode-notebook-cell:/c%3A/ATU/Pfda_Project_1/pfda_project1/project1.ipynb#X22sZmlsZQ%3D%3D?line=34'>35</a>\u001b[0m tempmax\u001b[39m=\u001b[39mdftemp[\u001b[39m1\u001b[39m]\u001b[39m.\u001b[39mmax()\n\u001b[0;32m     <a href='vscode-notebook-cell:/c%3A/ATU/Pfda_Project_1/pfda_project1/project1.ipynb#X22sZmlsZQ%3D%3D?line=35'>36</a>\u001b[0m tempmin\u001b[39m=\u001b[39mdftemp[\u001b[39m2\u001b[39m]\u001b[39m.\u001b[39mmin()\n\u001b[0;32m     <a href='vscode-notebook-cell:/c%3A/ATU/Pfda_Project_1/pfda_project1/project1.ipynb#X22sZmlsZQ%3D%3D?line=36'>37</a>\u001b[0m rainmax\u001b[39m=\u001b[39mdftemp[\u001b[39m3\u001b[39m]\u001b[39m.\u001b[39mmax()\n",
      "File \u001b[1;32mc:\\Users\\Administrator\\anaconda3\\Lib\\site-packages\\pandas\\core\\frame.py:3761\u001b[0m, in \u001b[0;36mDataFrame.__getitem__\u001b[1;34m(self, key)\u001b[0m\n\u001b[0;32m   3759\u001b[0m \u001b[39mif\u001b[39;00m \u001b[39mself\u001b[39m\u001b[39m.\u001b[39mcolumns\u001b[39m.\u001b[39mnlevels \u001b[39m>\u001b[39m \u001b[39m1\u001b[39m:\n\u001b[0;32m   3760\u001b[0m     \u001b[39mreturn\u001b[39;00m \u001b[39mself\u001b[39m\u001b[39m.\u001b[39m_getitem_multilevel(key)\n\u001b[1;32m-> 3761\u001b[0m indexer \u001b[39m=\u001b[39m \u001b[39mself\u001b[39m\u001b[39m.\u001b[39mcolumns\u001b[39m.\u001b[39mget_loc(key)\n\u001b[0;32m   3762\u001b[0m \u001b[39mif\u001b[39;00m is_integer(indexer):\n\u001b[0;32m   3763\u001b[0m     indexer \u001b[39m=\u001b[39m [indexer]\n",
      "File \u001b[1;32mc:\\Users\\Administrator\\anaconda3\\Lib\\site-packages\\pandas\\core\\indexes\\base.py:3655\u001b[0m, in \u001b[0;36mIndex.get_loc\u001b[1;34m(self, key)\u001b[0m\n\u001b[0;32m   3653\u001b[0m     \u001b[39mreturn\u001b[39;00m \u001b[39mself\u001b[39m\u001b[39m.\u001b[39m_engine\u001b[39m.\u001b[39mget_loc(casted_key)\n\u001b[0;32m   3654\u001b[0m \u001b[39mexcept\u001b[39;00m \u001b[39mKeyError\u001b[39;00m \u001b[39mas\u001b[39;00m err:\n\u001b[1;32m-> 3655\u001b[0m     \u001b[39mraise\u001b[39;00m \u001b[39mKeyError\u001b[39;00m(key) \u001b[39mfrom\u001b[39;00m \u001b[39merr\u001b[39;00m\n\u001b[0;32m   3656\u001b[0m \u001b[39mexcept\u001b[39;00m \u001b[39mTypeError\u001b[39;00m:\n\u001b[0;32m   3657\u001b[0m     \u001b[39m# If we have a listlike key, _check_indexing_error will raise\u001b[39;00m\n\u001b[0;32m   3658\u001b[0m     \u001b[39m#  InvalidIndexError. Otherwise we fall through and re-raise\u001b[39;00m\n\u001b[0;32m   3659\u001b[0m     \u001b[39m#  the TypeError.\u001b[39;00m\n\u001b[0;32m   3660\u001b[0m     \u001b[39mself\u001b[39m\u001b[39m.\u001b[39m_check_indexing_error(key)\n",
      "\u001b[1;31mKeyError\u001b[0m: 1"
     ]
    }
   ],
   "source": [
    "#FINDING MAX AND MIN\n",
    "#df2=df.query('date.str.contains(\"jan\")')\n",
    "#print(df2)\n",
    "\n",
    "#Loop for each month of the year, and find/set the min and max temp\n",
    "# here range (1,13)actually means 1-12 i.e. the count stops at 13 and 13 isn't included\n",
    "for x in range(1,13):\n",
    "    funGetMonthMinMax(x)\n",
    "#print used for checking min/max\n",
    "#for x in range(0,12):\n",
    "#    print(\">>>>>>>>>>>>>>>>>>>>>>>>>>>>>>>>>>>>>>>\",x, \"mthMin>\", mthMin[x],\" mthMax>\",mthMax[x])\n",
    "#print(df_new)"
   ]
  },
  {
   "cell_type": "code",
   "execution_count": null,
   "metadata": {},
   "outputs": [],
   "source": []
  },
  {
   "cell_type": "code",
   "execution_count": null,
   "metadata": {},
   "outputs": [],
   "source": []
  },
  {
   "cell_type": "code",
   "execution_count": null,
   "metadata": {},
   "outputs": [],
   "source": []
  },
  {
   "cell_type": "markdown",
   "metadata": {},
   "source": [
    "***\n",
    "\n",
    "## End"
   ]
  }
 ],
 "metadata": {
  "kernelspec": {
   "display_name": "base",
   "language": "python",
   "name": "python3"
  },
  "language_info": {
   "codemirror_mode": {
    "name": "ipython",
    "version": 3
   },
   "file_extension": ".py",
   "mimetype": "text/x-python",
   "name": "python",
   "nbconvert_exporter": "python",
   "pygments_lexer": "ipython3",
   "version": "3.11.5"
  }
 },
 "nbformat": 4,
 "nbformat_minor": 2
}
